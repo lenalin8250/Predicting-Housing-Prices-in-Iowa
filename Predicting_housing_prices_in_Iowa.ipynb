{
  "nbformat": 4,
  "nbformat_minor": 0,
  "metadata": {
    "colab": {
      "name": "Predicting housing prices in Iowa.ipynb",
      "provenance": [],
      "authorship_tag": "ABX9TyOQrS/jEmEPhOk3ob86xZq9",
      "include_colab_link": true
    },
    "kernelspec": {
      "name": "python3",
      "display_name": "Python 3"
    },
    "language_info": {
      "name": "python"
    }
  },
  "cells": [
    {
      "cell_type": "markdown",
      "metadata": {
        "id": "view-in-github",
        "colab_type": "text"
      },
      "source": [
        "<a href=\"https://colab.research.google.com/github/lenalin8250/Predicting-Housing-Prices-in-Iowa/blob/main/Predicting_housing_prices_in_Iowa.ipynb\" target=\"_parent\"><img src=\"https://colab.research.google.com/assets/colab-badge.svg\" alt=\"Open In Colab\"/></a>"
      ]
    },
    {
      "cell_type": "code",
      "metadata": {
        "colab": {
          "base_uri": "https://localhost:8080/"
        },
        "id": "vGrQHlcpqWQi",
        "outputId": "d7533060-73f7-4d5b-c69a-11482bf03c87"
      },
      "source": [
        "import pandas as pd\n",
        "from sklearn.model_selection import train_test_split\n",
        "\n",
        "# Read the data\n",
        "X_full = pd.read_csv('train.csv', index_col='Id')\n",
        "X_test_full = pd.read_csv('test.csv', index_col='Id')\n",
        "\n",
        "\n",
        "# Obtain target and predictors\n",
        "y = X_full.SalePrice\n",
        "features = ['LotArea', 'YearBuilt', '1stFlrSF', '2ndFlrSF', 'FullBath', 'BedroomAbvGr', 'TotRmsAbvGrd']\n",
        "X = X_full[features].copy()\n",
        "X_test = X_test_full[features].copy()\n",
        "\n",
        "# Break off validation set from training data\n",
        "X_train, X_valid, y_train, y_valid = train_test_split(X, y, train_size=0.8, test_size=0.2,\n",
        "                                                      random_state=0)\n",
        "X_train.head()\n",
        "\n",
        "from sklearn.ensemble import RandomForestRegressor\n",
        "\n",
        "# Define the models\n",
        "model_1 = RandomForestRegressor(n_estimators=50, random_state=0)\n",
        "model_2 = RandomForestRegressor(n_estimators=100, random_state=0)\n",
        "model_3 = RandomForestRegressor(n_estimators=100, criterion='mae', random_state=0)\n",
        "model_4 = RandomForestRegressor(n_estimators=200, min_samples_split=20, random_state=0)\n",
        "model_5 = RandomForestRegressor(n_estimators=100, max_depth=7, random_state=0)\n",
        "\n",
        "models = [model_1, model_2, model_3, model_4, model_5]\n",
        "\n",
        "from sklearn.metrics import mean_absolute_error\n",
        "\n",
        "# Function for comparing different models\n",
        "def score_model(model, X_t=X_train, X_v=X_valid, y_t=y_train, y_v=y_valid):\n",
        "    model.fit(X_t, y_t)\n",
        "    preds = model.predict(X_v)\n",
        "    return mean_absolute_error(y_v, preds)\n",
        "\n",
        "for i in range(0, len(models)):\n",
        "    mae = score_model(models[i])\n",
        "    print(\"Model %d MAE: %d\" % (i+1, mae))\n",
        "\n",
        "#evaluating the best model\n",
        "best_model=model_3\n",
        "\n",
        "#define model\n",
        "my_model= RandomForestRegressor(n_estimators=100, criterion='mae', max_depth= 7, random_state=0)\n",
        "#my_model=RandomForestRegressor(n_estimators=100,random_state=0)\n",
        "#fit model to training data\n",
        "my_model.fit(X,y)\n",
        "#generate predictions\n",
        "preds_test=my_model.predict(X_test)\n",
        "\n",
        "# Save predictions in format used for competition scoring\n",
        "output = pd.DataFrame({'Id': X_test.index,\n",
        "                       'SalePrice': preds_test})\n",
        "output.to_csv('submission.csv', index=False)\n",
        "\n",
        "#Kaggle score\n",
        "\n",
        "my_model.fit(X_train,y_train)\n",
        "predict_my_model=my_model.predict(X_valid)\n",
        "error=mean_absolute_error(y_valid,predict_my_model)\n",
        "\n",
        "print(\"My Kaggle Score is \"+ str(error))"
      ],
      "execution_count": 13,
      "outputs": [
        {
          "output_type": "stream",
          "text": [
            "Model 1 MAE: 24015\n",
            "Model 2 MAE: 23740\n",
            "Model 3 MAE: 23528\n",
            "Model 4 MAE: 23996\n",
            "Model 5 MAE: 23706\n",
            "My Kaggle Score is 23496.8830479452\n"
          ],
          "name": "stdout"
        }
      ]
    }
  ]
}